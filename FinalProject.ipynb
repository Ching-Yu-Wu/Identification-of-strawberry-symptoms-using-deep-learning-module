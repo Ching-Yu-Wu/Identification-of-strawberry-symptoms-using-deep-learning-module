{
 "cells": [
  {
   "cell_type": "markdown",
   "source": [
    "# 第六組第四次測試\n",
    "測試照片原圖路徑: ./yolov7-main/Final/imagesTest\n",
    "測試照片答案路徑: ./yolov7-main/Final/imageAnswer\n",
    "預測照片答案路徑: ./yolov7-main/Final/imagePredict\n",
    "預測照片標籤路徑: ./yolov7-main/runs/exp/labels"
   ],
   "metadata": {
    "collapsed": false
   }
  },
  {
   "cell_type": "markdown",
   "source": [
    "# 環境\n",
    "torch>=1.7.0,!=1.12.0\n",
    "torchvision>=0.8.1,!=0.13.0\n",
    "tqdm>=4.41.0\n",
    "tensorboard>=2.4.1"
   ],
   "metadata": {
    "collapsed": false
   }
  },
  {
   "cell_type": "markdown",
   "source": [
    "### import model"
   ],
   "metadata": {
    "collapsed": false
   }
  },
  {
   "cell_type": "code",
   "execution_count": 1,
   "outputs": [],
   "source": [
    "import cv2\n",
    "import os\n",
    "import glob\n",
    "import numpy as np\n",
    "import pandas as pd\n",
    "import json"
   ],
   "metadata": {
    "collapsed": false
   }
  },
  {
   "cell_type": "markdown",
   "source": [
    "### AnswerMaker use txt to image"
   ],
   "metadata": {
    "collapsed": false
   }
  },
  {
   "cell_type": "code",
   "execution_count": 2,
   "metadata": {},
   "outputs": [],
   "source": [
    "def txt_to_image(txt_path, image_path, save_image_path):\n",
    "    txt = os.listdir(txt_path)\n",
    "    image = os.listdir(image_path)\n",
    "\n",
    "    # 設定圖片大小\n",
    "    width = 640\n",
    "    high = 360\n",
    "\n",
    "    for idx_img,imageName in enumerate(image):\n",
    "        imageOut=np.zeros((high,width,3))\n",
    "        file = open(txt_path+txt[idx_img], 'r')\n",
    "        recs=file.readlines()\n",
    "        for rec in recs:\n",
    "            info=rec[:-1].split(' ')\n",
    "            cx=int(float(info[1])*640)\n",
    "            cy=int(float(info[2])*360)\n",
    "            w=int(float(info[3])*640)\n",
    "            h=int(float(info[4])*360)\n",
    "            x1=cx-w//2\n",
    "            y1=cy-h//2\n",
    "            x2=cx+w//2\n",
    "            y2=cy+h//2\n",
    "\n",
    "            if int(info[0])==0:\n",
    "                imageOut=cv2.rectangle(imageOut, (x1, y1), (x2, y2), (0, 0, 255), -1)\n",
    "            else:\n",
    "                imageOut=cv2.rectangle(imageOut, (x1, y1), (x2, y2), (0, 255, 0), -1)\n",
    "        \n",
    "        cv2.imwrite(save_image_path+imageName, imageOut)"
   ]
  },
  {
   "cell_type": "markdown",
   "source": [
    "### Predict images"
   ],
   "metadata": {
    "collapsed": false
   }
  },
  {
   "cell_type": "code",
   "execution_count": 3,
   "outputs": [],
   "source": [
    "def Preprocess(test_data_path):\n",
    "    # Input image pre-processing\n",
    "    # Process the indput image to conform to the shape and format of the model\n",
    "    # return test_data\n",
    "    pass\n",
    "\n",
    "def LoadModel(pretrained_model_file):\n",
    "    # Load deep learning model\n",
    "    # return model\n",
    "    pass\n",
    "\n",
    "def Predict():\n",
    "    # return prediction\n",
    "    # use yolov7 detect.py\n",
    "    !python detect.py --save-txt --weights ./weights/best.pt --conf 0.25 --img-size 640 --source ./Final/imagesTest\n",
    "    return\n",
    "\n",
    "\n",
    "def Postprocess(prediction):\n",
    "    # Post-precessing\n",
    "    # Save the prediction results as an image and use the filename \"prediction_n\"\n",
    "    # return prediction_path\n",
    "    pass"
   ],
   "metadata": {
    "collapsed": false
   }
  },
  {
   "cell_type": "markdown",
   "source": [
    "### Score calculater"
   ],
   "metadata": {
    "collapsed": false
   }
  },
  {
   "cell_type": "code",
   "execution_count": 4,
   "metadata": {},
   "outputs": [],
   "source": [
    "import os\n",
    "import cv2\n",
    "import numpy as np\n",
    "import glob\n",
    "import pandas as pd\n",
    "from keras import backend as K\n",
    "import  tensorflow\n",
    "\n",
    "def dice_coef(y_true, y_pred, smooth=0):\n",
    "    intersection = K.sum(y_true * y_pred, axis=[0,1])\n",
    "    union = K.sum(y_true, axis=[0,1]) + K.sum(y_pred, axis=[0,1])\n",
    "    return K.mean((2. * intersection + smooth) / (union + smooth), axis=0)\n",
    "\n",
    "def Calculate_Score(answer_path, prediction_path):\n",
    "    answer_path = answer_path\n",
    "    prediction_path = prediction_path\n",
    "    answer_list = os.listdir(answer_path)\n",
    "    prediction_list = os.listdir(prediction_path)\n",
    "    #print(answer_list)\n",
    "    #print(prediction_list)\n",
    "    \n",
    "    B_score = []\n",
    "    G_score = []\n",
    "    R_score = []\n",
    "    for i in range(len(answer_list)):\n",
    "        ans = cv2.imread(f'{answer_path}{answer_list[i]}').astype('float32')\n",
    "        ans[:, :, 0] = np.where(ans[:, :, 0] > 0, 0, 0)\n",
    "        ans[:, :, 1] = np.where(ans[:, :, 1] > 1, 1, 0)\n",
    "        ans[:, :, 2] = np.where(ans[:, :, 2] > 1, 1, 0)\n",
    "        pre = cv2.imread(f'{prediction_path}{prediction_list[i]}').astype('float32')\n",
    "        pre[:, :, 0] = np.where(pre[:, :, 0] > 0, 0, 0)\n",
    "        pre[:, :, 1] = np.where(pre[:, :, 1] > 1, 1, 0)\n",
    "        pre[:, :, 2] = np.where(pre[:, :, 2] > 1, 1, 0)\n",
    "\n",
    "        \n",
    "        for j in range(1,3):\n",
    "            # BGR\n",
    "            dice = dice_coef(ans[:,:,0+j:1+j], pre[:,:,0+j:1+j])\n",
    "            dice_score = dice.numpy()\n",
    "            if np.isnan(dice_score):\n",
    "                print(prediction_list[i])\n",
    "            \n",
    "            if j == 0:\n",
    "                B_score.append(dice_score)\n",
    "            elif j == 1:\n",
    "                G_score.append(dice_score)\n",
    "            else:\n",
    "                R_score.append(dice_score)\n",
    "    print(np.mean(B_score))\n",
    "    print(np.mean(G_score))\n",
    "    print(np.mean(R_score))\n",
    "    print('The final score : ', np.mean(G_score)+np.mean(R_score))\n"
   ]
  },
  {
   "cell_type": "markdown",
   "source": [
    "### main function"
   ],
   "metadata": {
    "collapsed": false
   }
  },
  {
   "cell_type": "code",
   "execution_count": 5,
   "outputs": [
    {
     "name": "stdout",
     "output_type": "stream",
     "text": [
      "Namespace(agnostic_nms=False, augment=False, classes=None, conf_thres=0.25, device='', exist_ok=False, img_size=640, iou_thres=0.45, name='exp', no_trace=False, nosave=False, project='runs/detect', save_conf=False, save_txt=True, source='./Final/imagesTest', update=False, view_img=False, weights=['./weights/best.pt'])\n",
      "Fusing layers... \n",
      "IDetect.fuse\n",
      " Convert model to Traced-model... \n",
      " traced_script_module saved! \n",
      " model is traced! \n",
      "\n",
      "1 0, 2 1s, Done. (157.7ms) Inference, (46.8ms) NMS\n",
      " The image with the result is saved in: runs\\detect\\exp\\105.jpg\n",
      "1 0, 1 1, Done. (156.2ms) Inference, (0.0ms) NMS\n",
      " The image with the result is saved in: runs\\detect\\exp\\1080.jpg\n",
      "1 0, 2 1s, Done. (161.8ms) Inference, (0.0ms) NMS\n",
      " The image with the result is saved in: runs\\detect\\exp\\1101.jpg\n",
      "1 0, 2 1s, Done. (156.2ms) Inference, (0.0ms) NMS\n",
      " The image with the result is saved in: runs\\detect\\exp\\116.jpg\n",
      "2 0s, 3 1s, Done. (162.4ms) Inference, (0.0ms) NMS\n",
      " The image with the result is saved in: runs\\detect\\exp\\1201.jpg\n",
      "2 0s, 3 1s, Done. (156.2ms) Inference, (0.0ms) NMS\n",
      " The image with the result is saved in: runs\\detect\\exp\\1205.jpg\n",
      "2 0s, 2 1s, Done. (160.1ms) Inference, (0.0ms) NMS\n",
      " The image with the result is saved in: runs\\detect\\exp\\1207.jpg\n",
      "1 0, 1 1, Done. (156.2ms) Inference, (0.0ms) NMS\n",
      " The image with the result is saved in: runs\\detect\\exp\\1236.jpg\n",
      "2 0s, 4 1s, Done. (156.2ms) Inference, (0.0ms) NMS\n",
      " The image with the result is saved in: runs\\detect\\exp\\1253.jpg\n",
      "1 0, 1 1, Done. (156.2ms) Inference, (0.0ms) NMS\n",
      " The image with the result is saved in: runs\\detect\\exp\\127.jpg\n",
      "2 0s, 2 1s, Done. (156.2ms) Inference, (15.6ms) NMS\n",
      " The image with the result is saved in: runs\\detect\\exp\\1285.jpg\n",
      "1 0, 1 1, Done. (161.3ms) Inference, (0.0ms) NMS\n",
      " The image with the result is saved in: runs\\detect\\exp\\1315.jpg\n",
      "1 0, 1 1, Done. (171.9ms) Inference, (0.0ms) NMS\n",
      " The image with the result is saved in: runs\\detect\\exp\\1320.jpg\n",
      "1 0, 1 1, Done. (162.2ms) Inference, (0.0ms) NMS\n",
      " The image with the result is saved in: runs\\detect\\exp\\1333.jpg\n",
      "2 0s, 1 1, Done. (156.2ms) Inference, (0.0ms) NMS\n",
      " The image with the result is saved in: runs\\detect\\exp\\1346.jpg\n",
      "2 0s, 2 1s, Done. (145.3ms) Inference, (0.0ms) NMS\n",
      " The image with the result is saved in: runs\\detect\\exp\\1351.jpg\n",
      "1 0, 1 1, Done. (156.2ms) Inference, (0.0ms) NMS\n",
      " The image with the result is saved in: runs\\detect\\exp\\138.jpg\n",
      "1 0, 1 1, Done. (156.2ms) Inference, (0.0ms) NMS\n",
      " The image with the result is saved in: runs\\detect\\exp\\1447.jpg\n",
      "3 0s, 1 1, Done. (156.2ms) Inference, (0.0ms) NMS\n",
      " The image with the result is saved in: runs\\detect\\exp\\1455.jpg\n",
      "2 1s, Done. (156.2ms) Inference, (0.0ms) NMS\n",
      " The image with the result is saved in: runs\\detect\\exp\\1482.jpg\n",
      "1 0, 2 1s, Done. (156.2ms) Inference, (0.0ms) NMS\n",
      " The image with the result is saved in: runs\\detect\\exp\\1603.jpg\n",
      "1 0, 1 1, Done. (156.2ms) Inference, (0.0ms) NMS\n",
      " The image with the result is saved in: runs\\detect\\exp\\1632.jpg\n",
      "1 0, 1 1, Done. (160.0ms) Inference, (0.0ms) NMS\n",
      " The image with the result is saved in: runs\\detect\\exp\\1649.jpg\n",
      "1 0, 2 1s, Done. (156.2ms) Inference, (0.0ms) NMS\n",
      " The image with the result is saved in: runs\\detect\\exp\\1663.jpg\n",
      "1 0, 1 1, Done. (161.0ms) Inference, (0.0ms) NMS\n",
      " The image with the result is saved in: runs\\detect\\exp\\1664.jpg\n",
      "1 0, 1 1, Done. (171.9ms) Inference, (0.0ms) NMS\n",
      " The image with the result is saved in: runs\\detect\\exp\\1668.jpg\n",
      "2 0s, 1 1, Done. (160.5ms) Inference, (0.0ms) NMS\n",
      " The image with the result is saved in: runs\\detect\\exp\\1761.jpg\n",
      "2 1s, Done. (156.6ms) Inference, (0.0ms) NMS\n",
      " The image with the result is saved in: runs\\detect\\exp\\1764.jpg\n",
      "2 1s, Done. (156.2ms) Inference, (15.6ms) NMS\n",
      " The image with the result is saved in: runs\\detect\\exp\\1772.jpg\n",
      "2 1s, Done. (156.2ms) Inference, (15.6ms) NMS\n",
      " The image with the result is saved in: runs\\detect\\exp\\1773.jpg\n",
      "1 0, 1 1, Done. (156.2ms) Inference, (0.0ms) NMS\n",
      " The image with the result is saved in: runs\\detect\\exp\\1889.jpg\n",
      "1 0, 1 1, Done. (146.1ms) Inference, (0.0ms) NMS\n",
      " The image with the result is saved in: runs\\detect\\exp\\1894.jpg\n",
      "2 0s, 2 1s, Done. (156.2ms) Inference, (0.0ms) NMS\n",
      " The image with the result is saved in: runs\\detect\\exp\\1896.jpg\n",
      "1 0, 1 1, Done. (145.3ms) Inference, (15.6ms) NMS\n",
      " The image with the result is saved in: runs\\detect\\exp\\1927.jpg\n",
      "2 0s, 2 1s, Done. (156.2ms) Inference, (0.0ms) NMS\n",
      " The image with the result is saved in: runs\\detect\\exp\\1983.jpg\n",
      "2 0s, 2 1s, Done. (161.6ms) Inference, (0.0ms) NMS\n",
      " The image with the result is saved in: runs\\detect\\exp\\1987.jpg\n",
      "2 0s, 3 1s, Done. (156.2ms) Inference, (0.0ms) NMS\n",
      " The image with the result is saved in: runs\\detect\\exp\\1988.jpg\n",
      "2 0s, 3 1s, Done. (144.7ms) Inference, (0.0ms) NMS\n",
      " The image with the result is saved in: runs\\detect\\exp\\1990.jpg\n",
      "2 0s, 1 1, Done. (156.2ms) Inference, (0.0ms) NMS\n",
      " The image with the result is saved in: runs\\detect\\exp\\2072.jpg\n",
      "1 0, 1 1, Done. (156.2ms) Inference, (15.6ms) NMS\n",
      " The image with the result is saved in: runs\\detect\\exp\\2151.jpg\n",
      "1 0, 1 1, Done. (156.2ms) Inference, (0.0ms) NMS\n",
      " The image with the result is saved in: runs\\detect\\exp\\2153.jpg\n",
      "3 0s, 2 1s, Done. (156.2ms) Inference, (0.0ms) NMS\n",
      " The image with the result is saved in: runs\\detect\\exp\\2229.jpg\n",
      "1 0, 1 1, Done. (156.3ms) Inference, (0.0ms) NMS\n",
      " The image with the result is saved in: runs\\detect\\exp\\2247.jpg\n",
      "1 0, 1 1, Done. (156.2ms) Inference, (0.0ms) NMS\n",
      " The image with the result is saved in: runs\\detect\\exp\\2248.jpg\n",
      "1 0, 3 1s, Done. (161.2ms) Inference, (0.0ms) NMS\n",
      " The image with the result is saved in: runs\\detect\\exp\\2253.jpg\n",
      "2 0s, 2 1s, Done. (171.8ms) Inference, (0.0ms) NMS\n",
      " The image with the result is saved in: runs\\detect\\exp\\2258.jpg\n",
      "2 0s, 2 1s, Done. (162.9ms) Inference, (0.0ms) NMS\n",
      " The image with the result is saved in: runs\\detect\\exp\\2259.jpg\n",
      "2 0s, 3 1s, Done. (156.2ms) Inference, (0.0ms) NMS\n",
      " The image with the result is saved in: runs\\detect\\exp\\2265.jpg\n",
      "3 0s, 2 1s, Done. (162.5ms) Inference, (0.0ms) NMS\n",
      " The image with the result is saved in: runs\\detect\\exp\\2294.jpg\n",
      "1 0, 2 1s, Done. (156.2ms) Inference, (15.6ms) NMS\n",
      " The image with the result is saved in: runs\\detect\\exp\\2324.jpg\n",
      "1 0, 1 1, Done. (156.2ms) Inference, (0.0ms) NMS\n",
      " The image with the result is saved in: runs\\detect\\exp\\2331.jpg\n",
      "1 0, 2 1s, Done. (156.2ms) Inference, (0.0ms) NMS\n",
      " The image with the result is saved in: runs\\detect\\exp\\2341.jpg\n",
      "2 1s, Done. (156.2ms) Inference, (0.0ms) NMS\n",
      " The image with the result is saved in: runs\\detect\\exp\\2388.jpg\n",
      "3 0s, 5 1s, Done. (145.3ms) Inference, (0.0ms) NMS\n",
      " The image with the result is saved in: runs\\detect\\exp\\2409.jpg\n",
      "1 0, 5 1s, Done. (156.2ms) Inference, (0.0ms) NMS\n",
      " The image with the result is saved in: runs\\detect\\exp\\2426.jpg\n",
      "3 0s, 2 1s, Done. (160.4ms) Inference, (0.0ms) NMS\n",
      " The image with the result is saved in: runs\\detect\\exp\\2442.jpg\n",
      "2 0s, 2 1s, Done. (156.2ms) Inference, (0.0ms) NMS\n",
      " The image with the result is saved in: runs\\detect\\exp\\2444.jpg\n",
      "1 0, 1 1, Done. (157.7ms) Inference, (0.0ms) NMS\n",
      " The image with the result is saved in: runs\\detect\\exp\\2451.jpg\n",
      "1 0, 1 1, Done. (156.2ms) Inference, (0.0ms) NMS\n",
      " The image with the result is saved in: runs\\detect\\exp\\2456.jpg\n",
      "3 0s, Done. (156.2ms) Inference, (0.0ms) NMS\n",
      " The image with the result is saved in: runs\\detect\\exp\\2474.jpg\n",
      "1 0, 3 1s, Done. (171.8ms) Inference, (0.0ms) NMS\n",
      " The image with the result is saved in: runs\\detect\\exp\\25.jpg\n",
      "2 0s, 4 1s, Done. (156.2ms) Inference, (0.0ms) NMS\n",
      " The image with the result is saved in: runs\\detect\\exp\\2532.jpg\n",
      "1 0, 3 1s, Done. (160.3ms) Inference, (0.0ms) NMS\n",
      " The image with the result is saved in: runs\\detect\\exp\\2540.jpg\n",
      "3 0s, 3 1s, Done. (156.2ms) Inference, (15.6ms) NMS\n",
      " The image with the result is saved in: runs\\detect\\exp\\2541.jpg\n",
      "3 0s, 3 1s, Done. (160.8ms) Inference, (0.0ms) NMS\n",
      " The image with the result is saved in: runs\\detect\\exp\\2542.jpg\n",
      "3 0s, 1 1, Done. (171.8ms) Inference, (0.0ms) NMS\n",
      " The image with the result is saved in: runs\\detect\\exp\\2546.jpg\n",
      "2 0s, 2 1s, Done. (160.2ms) Inference, (0.0ms) NMS\n",
      " The image with the result is saved in: runs\\detect\\exp\\2547.jpg\n",
      "1 0, Done. (156.2ms) Inference, (15.6ms) NMS\n",
      " The image with the result is saved in: runs\\detect\\exp\\2578.jpg\n",
      "1 0, 2 1s, Done. (156.6ms) Inference, (0.0ms) NMS\n",
      " The image with the result is saved in: runs\\detect\\exp\\26.jpg\n",
      "2 0s, 1 1, Done. (156.2ms) Inference, (0.0ms) NMS\n",
      " The image with the result is saved in: runs\\detect\\exp\\260.jpg\n",
      "3 0s, 1 1, Done. (156.2ms) Inference, (0.0ms) NMS\n",
      " The image with the result is saved in: runs\\detect\\exp\\261.jpg\n",
      "2 0s, Done. (161.3ms) Inference, (0.0ms) NMS\n",
      " The image with the result is saved in: runs\\detect\\exp\\2687.jpg\n",
      "4 0s, 1 1, Done. (156.2ms) Inference, (0.0ms) NMS\n",
      " The image with the result is saved in: runs\\detect\\exp\\2695.jpg\n",
      "3 0s, 1 1, Done. (160.3ms) Inference, (0.0ms) NMS\n",
      " The image with the result is saved in: runs\\detect\\exp\\2715.jpg\n",
      "1 0, 1 1, Done. (156.2ms) Inference, (0.0ms) NMS\n",
      " The image with the result is saved in: runs\\detect\\exp\\278.jpg\n",
      "1 0, 1 1, Done. (160.8ms) Inference, (0.0ms) NMS\n",
      " The image with the result is saved in: runs\\detect\\exp\\279.jpg\n",
      "1 0, 2 1s, Done. (156.2ms) Inference, (0.0ms) NMS\n",
      " The image with the result is saved in: runs\\detect\\exp\\2791.jpg\n",
      "1 0, 1 1, Done. (159.1ms) Inference, (0.0ms) NMS\n",
      " The image with the result is saved in: runs\\detect\\exp\\28.jpg\n",
      "2 0s, 1 1, Done. (171.8ms) Inference, (0.0ms) NMS\n",
      " The image with the result is saved in: runs\\detect\\exp\\2816.jpg\n",
      "1 0, 1 1, Done. (156.2ms) Inference, (0.0ms) NMS\n",
      " The image with the result is saved in: runs\\detect\\exp\\2855.jpg\n",
      "1 0, 2 1s, Done. (161.2ms) Inference, (0.0ms) NMS\n",
      " The image with the result is saved in: runs\\detect\\exp\\2871.jpg\n",
      "1 0, 1 1, Done. (156.2ms) Inference, (0.0ms) NMS\n",
      " The image with the result is saved in: runs\\detect\\exp\\2873.jpg\n",
      "2 0s, 1 1, Done. (159.4ms) Inference, (0.0ms) NMS\n",
      " The image with the result is saved in: runs\\detect\\exp\\2890.jpg\n",
      "3 0s, 1 1, Done. (156.2ms) Inference, (0.0ms) NMS\n",
      " The image with the result is saved in: runs\\detect\\exp\\2891.jpg\n",
      "3 0s, 1 1, Done. (161.8ms) Inference, (0.0ms) NMS\n",
      " The image with the result is saved in: runs\\detect\\exp\\2899.jpg\n",
      "1 0, 1 1, Done. (156.2ms) Inference, (0.0ms) NMS\n",
      " The image with the result is saved in: runs\\detect\\exp\\29.jpg\n",
      "3 1s, Done. (156.2ms) Inference, (0.0ms) NMS\n",
      " The image with the result is saved in: runs\\detect\\exp\\2932.jpg\n",
      "2 0s, 1 1, Done. (156.2ms) Inference, (0.0ms) NMS\n",
      " The image with the result is saved in: runs\\detect\\exp\\2976.jpg\n",
      "2 0s, 3 1s, Done. (156.2ms) Inference, (0.0ms) NMS\n",
      " The image with the result is saved in: runs\\detect\\exp\\2978.jpg\n",
      "3 0s, 2 1s, Done. (156.2ms) Inference, (0.0ms) NMS\n",
      " The image with the result is saved in: runs\\detect\\exp\\2990.jpg\n",
      "1 0, 1 1, Done. (156.2ms) Inference, (0.0ms) NMS\n",
      " The image with the result is saved in: runs\\detect\\exp\\3.jpg\n",
      "1 0, Done. (160.0ms) Inference, (0.0ms) NMS\n",
      " The image with the result is saved in: runs\\detect\\exp\\3053.jpg\n",
      "1 0, 3 1s, Done. (156.1ms) Inference, (0.0ms) NMS\n",
      " The image with the result is saved in: runs\\detect\\exp\\3059.jpg\n",
      "2 0s, 2 1s, Done. (145.5ms) Inference, (15.6ms) NMS\n",
      " The image with the result is saved in: runs\\detect\\exp\\307.jpg\n",
      "3 0s, 2 1s, Done. (156.2ms) Inference, (0.0ms) NMS\n",
      " The image with the result is saved in: runs\\detect\\exp\\308.jpg\n",
      "1 0, 1 1, Done. (154.1ms) Inference, (0.0ms) NMS\n",
      " The image with the result is saved in: runs\\detect\\exp\\3099.jpg\n",
      "2 0s, 3 1s, Done. (171.8ms) Inference, (0.0ms) NMS\n",
      " The image with the result is saved in: runs\\detect\\exp\\3117.jpg\n",
      "2 0s, 1 1, Done. (156.6ms) Inference, (0.0ms) NMS\n",
      " The image with the result is saved in: runs\\detect\\exp\\3148.jpg\n",
      "2 0s, 2 1s, Done. (156.2ms) Inference, (0.0ms) NMS\n",
      " The image with the result is saved in: runs\\detect\\exp\\318.jpg\n",
      "1 0, 1 1, Done. (172.3ms) Inference, (0.0ms) NMS\n",
      " The image with the result is saved in: runs\\detect\\exp\\32.jpg\n",
      "Done. (23.512s)\n"
     ]
    },
    {
     "name": "stderr",
     "output_type": "stream",
     "text": [
      "YOLOR  2023-1-1 torch 1.8.2+cu111 CUDA:0 (NVIDIA GeForce GTX 1050, 4095.8125MB)\n",
      "\n",
      "Model Summary: 362 layers, 70789182 parameters, 0 gradients, 188.0 GFLOPS\n"
     ]
    }
   ],
   "source": [
    "Predict()\n",
    "\n",
    "# generate predict images\n",
    "txt_to_image('./runs/detect/exp/labels/','./Final/imagesTest/','./Final/imagePredict/')"
   ],
   "metadata": {
    "collapsed": false
   }
  },
  {
   "cell_type": "code",
   "execution_count": 6,
   "metadata": {},
   "outputs": [
    {
     "name": "stdout",
     "output_type": "stream",
     "text": [
      "nan\n",
      "0.7193978\n",
      "0.6896347\n",
      "The final score :  1.4090325\n"
     ]
    },
    {
     "name": "stderr",
     "output_type": "stream",
     "text": [
      "C:\\Users\\justi\\anaconda3\\envs\\yolov7\\lib\\site-packages\\numpy\\core\\fromnumeric.py:3432: RuntimeWarning: Mean of empty slice.\n",
      "  return _methods._mean(a, axis=axis, dtype=dtype,\n",
      "C:\\Users\\justi\\anaconda3\\envs\\yolov7\\lib\\site-packages\\numpy\\core\\_methods.py:190: RuntimeWarning: invalid value encountered in double_scalars\n",
      "  ret = ret.dtype.type(ret / rcount)\n"
     ]
    }
   ],
   "source": [
    "Calculate_Score('./Final/imageAnswer/', './Final/imagePredict/')"
   ]
  }
 ],
 "metadata": {
  "kernelspec": {
   "display_name": "Python 3",
   "language": "python",
   "name": "python3"
  },
  "language_info": {
   "codemirror_mode": {
    "name": "ipython",
    "version": 3
   },
   "file_extension": ".py",
   "mimetype": "text/x-python",
   "name": "python",
   "nbconvert_exporter": "python",
   "pygments_lexer": "ipython3",
   "version": "3.9.13"
  },
  "orig_nbformat": 4,
  "vscode": {
   "interpreter": {
    "hash": "d077a01a7f8f4d71774dbf2925d39a3a5aa3e130f0afd06a475a4bc9c3a941d5"
   }
  }
 },
 "nbformat": 4,
 "nbformat_minor": 2
}
